{
 "cells": [
  {
   "cell_type": "code",
   "execution_count": 1,
   "id": "70c12e02-b602-4f49-aee5-522390e8d30a",
   "metadata": {},
   "outputs": [
    {
     "name": "stdout",
     "output_type": "stream",
     "text": [
      "Projet analysis\n"
     ]
    }
   ],
   "source": [
    "print ('Projet analysis')"
   ]
  },
  {
   "cell_type": "code",
   "execution_count": null,
   "id": "45b8d079-1c8d-4c4f-a303-b6bf130c7c2b",
   "metadata": {},
   "outputs": [],
   "source": []
  }
 ],
 "metadata": {
  "kernelspec": {
   "display_name": "Python 3",
   "language": "python",
   "name": "python3"
  },
  "language_info": {
   "codemirror_mode": {
    "name": "ipython",
    "version": 3
   },
   "file_extension": ".py",
   "mimetype": "text/x-python",
   "name": "python",
   "nbconvert_exporter": "python",
   "pygments_lexer": "ipython3",
   "version": "3.8.5"
  }
 },
 "nbformat": 4,
 "nbformat_minor": 5
}
