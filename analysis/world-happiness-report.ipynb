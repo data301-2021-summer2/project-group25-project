{
 "cells": [
  {
   "cell_type": "code",
   "execution_count": 1,
   "id": "ae492125-0250-48e5-9d4c-c1968bb83155",
   "metadata": {},
   "outputs": [
    {
     "name": "stdout",
     "output_type": "stream",
     "text": [
      "     Country name  year  Life Ladder  Log GDP per capita  Social support  \\\n",
      "0     Afghanistan  2008        3.724               7.370           0.451   \n",
      "1     Afghanistan  2009        4.402               7.540           0.552   \n",
      "2     Afghanistan  2010        4.758               7.647           0.539   \n",
      "3     Afghanistan  2011        3.832               7.620           0.521   \n",
      "4     Afghanistan  2012        3.783               7.705           0.521   \n",
      "...           ...   ...          ...                 ...             ...   \n",
      "1944     Zimbabwe  2016        3.735               7.984           0.768   \n",
      "1945     Zimbabwe  2017        3.638               8.016           0.754   \n",
      "1946     Zimbabwe  2018        3.616               8.049           0.775   \n",
      "1947     Zimbabwe  2019        2.694               7.950           0.759   \n",
      "1948     Zimbabwe  2020        3.160               7.829           0.717   \n",
      "\n",
      "      Healthy life expectancy at birth  Freedom to make life choices  \\\n",
      "0                                50.80                         0.718   \n",
      "1                                51.20                         0.679   \n",
      "2                                51.60                         0.600   \n",
      "3                                51.92                         0.496   \n",
      "4                                52.24                         0.531   \n",
      "...                                ...                           ...   \n",
      "1944                             54.40                         0.733   \n",
      "1945                             55.00                         0.753   \n",
      "1946                             55.60                         0.763   \n",
      "1947                             56.20                         0.632   \n",
      "1948                             56.80                         0.643   \n",
      "\n",
      "      Generosity  Perceptions of corruption  Positive affect  Negative affect  \n",
      "0          0.168                      0.882            0.518            0.258  \n",
      "1          0.190                      0.850            0.584            0.237  \n",
      "2          0.121                      0.707            0.618            0.275  \n",
      "3          0.162                      0.731            0.611            0.267  \n",
      "4          0.236                      0.776            0.710            0.268  \n",
      "...          ...                        ...              ...              ...  \n",
      "1944      -0.095                      0.724            0.738            0.209  \n",
      "1945      -0.098                      0.751            0.806            0.224  \n",
      "1946      -0.068                      0.844            0.710            0.212  \n",
      "1947      -0.064                      0.831            0.716            0.235  \n",
      "1948      -0.009                      0.789            0.703            0.346  \n",
      "\n",
      "[1949 rows x 11 columns]\n"
     ]
    }
   ],
   "source": [
    "import pandas as pd\n",
    "\n",
    "df = pd.read_csv('world-happiness-report.csv')\n",
    "\n",
    "print(df)"
   ]
  },
  {
   "cell_type": "code",
   "execution_count": null,
   "id": "fd33a8b1-5d59-4334-b9fd-5961c1c0084f",
   "metadata": {},
   "outputs": [],
   "source": []
  }
 ],
 "metadata": {
  "kernelspec": {
   "display_name": "Python 3",
   "language": "python",
   "name": "python3"
  },
  "language_info": {
   "codemirror_mode": {
    "name": "ipython",
    "version": 3
   },
   "file_extension": ".py",
   "mimetype": "text/x-python",
   "name": "python",
   "nbconvert_exporter": "python",
   "pygments_lexer": "ipython3",
   "version": "3.8.5"
  }
 },
 "nbformat": 4,
 "nbformat_minor": 5
}
